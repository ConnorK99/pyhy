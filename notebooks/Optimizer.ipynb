{
 "cells": [
  {
   "cell_type": "markdown",
   "metadata": {},
   "source": [
    "# Optimizer for matching Hyades simulated particle velocity  to experimentally measured velocity by varying pressure input\n",
    "Connor Krill  \n",
    "June 17, 2019  \n"
   ]
  },
  {
   "cell_type": "code",
   "execution_count": null,
   "metadata": {
    "collapsed": true
   },
   "outputs": [],
   "source": [
    "import sys\n",
    "sys.path.append('../tools')\n",
    "from hyades_runner import runHyades, runHyadesPostProcess\n",
    "from hyop_class import hyadesOptimizer\n",
    "from hyop_class import resolutionError\n",
    "from hyop_functions import useLaserPower, restartFrom, plotXrayPressure\n",
    "from display_tabs import DisplayTabs\n",
    "\n",
    "import numpy as np\n",
    "import pandas as pd\n",
    "import os\n",
    "import matplotlib.pyplot as plt\n",
    "from scipy import interpolate, optimize\n",
    "import logging\n",
    "\n",
    "plt.style.use('ggplot')\n",
    "%matplotlib inline"
   ]
  },
  {
   "cell_type": "markdown",
   "metadata": {},
   "source": [
    "## Experimental Information\n",
    "* `exp_file_name`\n",
    " * The excel file containing the experimental measurements\n",
    " * Needs 4 columns in the folling order: Velocity Time, Velocity Measured, Laser Power Time, Laser Power\n",
    "* `time_of_interest`\n",
    " * Start and stop times for the region where the residual will be calculated\n",
    "* `delay`\n",
    " * time added to the experimental measurement before fitting\n",
    " * useful if experimental velocity happens very early. Hyades cannot input pressures at negative times, so when the simulated velocity is coming too late increasing the delay by a few nanoseconds can give a better fit.\n",
    " \n",
    "* `use_shock_velocity`\n",
    " * if `False` use the particle velocity from the last mesh point in the material of interest to match to the experimental velocity\n",
    " * if `True` calculate the shock velocity in the simulation and fit that shock velocity to the experimental data\n",
    "* `use_laser_power`\n",
    " * if `True` the initial pressure input is estimated from the laser power in the experimental data sheet\n",
    " * if `False` use the user input initial_pressure specified later\n",
    "* `laser_spot_diameter` \n",
    " * Only required if use_laser_power is True\n",
    " * Diameter in microns of the experimental laser spot, used for calculating laser intensity "
   ]
  },
  {
   "cell_type": "code",
   "execution_count": null,
   "metadata": {
    "collapsed": true
   },
   "outputs": [],
   "source": [
    "exp_file_name = 'FeSi_s77742.xlsx'\n",
    "time_of_interest = (0.0, 16.0)  # (start_time, stop_time)\n",
    "delay = 1.0                    # nanoseconds, does not matter for shock velocity\n",
    "\n",
    "use_shock_velocity = False     # True or False\n",
    "use_laser_power = True        # True or False\n",
    "laser_spot_diameter = 1100        # microns, only matters if use_laser_power=True"
   ]
  },
  {
   "cell_type": "markdown",
   "metadata": {},
   "source": [
    "## Optimization Information\n",
    "\n",
    "\n",
    "* `run_name`\n",
    " * Location and name of the setup file for this optimization run\n",
    "* `restart_from_this_run` OPTIONAL\n",
    " * Leave as `''` and optimization will start normally\n",
    " * Set as path to a previous optimization run to start the current optimization run from the lowest residual save file in the selected folder\n",
    " \n",
    " \n",
    "* `time_for_pressure`\n",
    " * The timing of the pressure points that will be optimized.\n",
    " * Generally, start with few points (7-10) as the optimizer will automatically increase the number of points\n",
    " * `np.linspace(a, b, num=N, endpoint=True)` creates N evenly spaced points from a to b, inclusive\n",
    "\n",
    "* `initial_pressure`\n",
    " * Initial guess for pressure input in GPa. Poor guesses can affect time until convergence, but does not seem to affect quality of convergence much. \n",
    " * initial_pressure only matters if NOT using laser power and NOT restarting"
   ]
  },
  {
   "cell_type": "code",
   "execution_count": null,
   "metadata": {
    "collapsed": true
   },
   "outputs": [],
   "source": [
    "number_of_points = 10 # generally use a small number to start, the optimizer will automatically increase this\n",
    "# initial_pressure only matters if NOT using laser power and NOT restarting\n",
    "initial_pressure  = [0, 75, 175, 200, 250, 200, 175, 150, 0, 0]\n",
    "time_for_pressure = np.linspace(0, 20, num=number_of_points, endpoint=True)\n",
    "\n",
    "run_name = 's77742_sep13A'\n",
    "restart_from_this_run = '' # leave blank if no restart"
   ]
  },
  {
   "cell_type": "code",
   "execution_count": null,
   "metadata": {
    "collapsed": true
   },
   "outputs": [],
   "source": [
    "assert number_of_points == len(initial_pressure), f'There must be {number_of_points} entries in initial_pressure'\n",
    "assert number_of_points == len(time_for_pressure), f'There must be {number_of_points} entries in time_for_pressure'"
   ]
  },
  {
   "cell_type": "markdown",
   "metadata": {},
   "source": [
    "# Start the optimization"
   ]
  },
  {
   "cell_type": "code",
   "execution_count": null,
   "metadata": {
    "collapsed": true,
    "scrolled": false
   },
   "outputs": [],
   "source": [
    "if restart_from_this_run:\n",
    "    hyop, restart_log_message = restartFrom(restart_from_this_run, time_for_pressure)\n",
    "    laser_log_message = ''\n",
    "elif use_laser_power:\n",
    "    hyop = hyadesOptimizer(run_name, time_for_pressure, initial_pressure)\n",
    "    hyop, laser_log_message = useLaserPower(hyop, '../data/experimental/s22262_Us.xlsx',\n",
    "                                            laser_spot_diameter, debug=1)\n",
    "    restart_log_message = ''\n",
    "else:\n",
    "    hyop = hyadesOptimizer(run_name, time_for_pressure, initial_pressure)\n",
    "    laser_log_message, restart_log_message = '', ''\n",
    "    print('starting from scratch')\n",
    "    \n",
    "if use_shock_velocity:\n",
    "    print('Residual will be calculating using shock velocity')\n",
    "    hyop.use_shock_velocity = use_shock_velocity"
   ]
  },
  {
   "cell_type": "code",
   "execution_count": null,
   "metadata": {
    "collapsed": true,
    "scrolled": false
   },
   "outputs": [],
   "source": [
    "hyop.read_experimental_data(exp_file_name, time_of_interest, delay)\n",
    "hyop.delay = delay\n",
    "# more optimization pararmeters\n",
    "optimization_algorithm = 'L-BFGS-B' \n",
    "jac    = None\n",
    "tol    = 0.0001\n",
    "lb, ub = [0]*len(hyop.pres), [np.inf]*len(hyop.pres)\n",
    "bounds = optimize.Bounds(lb, ub, keep_feasible=True),\n",
    "options={'disp':False, 'maxiter':400, 'eps': 10.0} # eps is step size during jacobian approximation\n",
    "# logging\n",
    "filename = 'hyop.log'\n",
    "log_format = '%(asctime)s %(levelname)s:%(message)s'\n",
    "datefmt    = '%Y-%m-%d %H:%M:%S'\n",
    "logging.basicConfig(filename=filename, \n",
    "                    format=log_format, datefmt=datefmt, level=logging.DEBUG)\n",
    "log_message = f'Started optimization {hyop.run_name} '\n",
    "log_message += f'method: {optimization_algorithm}, jac: {jac}, tol:{tol}, bounds: ({lb}, {ub}), options: {options}'\n",
    "logging.info(log_message)\n",
    "if laser_log_message:   logging.info(laser_log_message)\n",
    "if restart_log_message: logging.info(restart_log_message)\n",
    "\n",
    "### Resolutions\n",
    "\n",
    "hyop.__initTabs__()\n",
    "for resolution in (len(hyop.pres), 2*len(hyop.pres), 4*len(hyop.pres)):\n",
    "    print('Current resolution', resolution)\n",
    "    f = interpolate.interp1d(hyop.pres_time, hyop.pres)\n",
    "    new_time = np.linspace(hyop.pres_time.min(), hyop.pres_time.max(), num=resolution)\n",
    "    new_pres = f(new_time)\n",
    "    hyop.pres_time = new_time\n",
    "    hyop.pres      = new_pres\n",
    "    initial_pressure = new_pres\n",
    "    lb, ub = [0]*len(hyop.pres), [np.inf]*len(hyop.pres)\n",
    "    bounds = optimize.Bounds(lb, ub, keep_feasible=True),\n",
    "    try:\n",
    "        sol = optimize.minimize(hyop.run, initial_pressure,\n",
    "                                method=optimization_algorithm, jac=jac, tol=tol,\n",
    "                                bounds=optimize.Bounds(lb, ub, keep_feasible=True),\n",
    "                                options=options)\n",
    "    except resolutionError:\n",
    "        print(\"Increasing resolution from\", resolution)\n",
    "        \n",
    "print(sol)\n",
    "out_fname = os.path.join(hyop.path, f'{hyop.run_name}_solution.txt')\n",
    "with open(out_fname, 'w') as f:\n",
    "    f.write(str(sol))"
   ]
  },
  {
   "cell_type": "code",
   "execution_count": null,
   "metadata": {
    "collapsed": true
   },
   "outputs": [],
   "source": []
  }
 ],
 "metadata": {
  "kernelspec": {
   "display_name": "Python 3",
   "language": "python",
   "name": "python3"
  },
  "language_info": {
   "codemirror_mode": {
    "name": "ipython",
    "version": 3
   },
   "file_extension": ".py",
   "mimetype": "text/x-python",
   "name": "python",
   "nbconvert_exporter": "python",
   "pygments_lexer": "ipython3",
   "version": "3.6.7"
  }
 },
 "nbformat": 4,
 "nbformat_minor": 2
}
