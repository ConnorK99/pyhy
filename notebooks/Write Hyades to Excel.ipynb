{
 "cells": [
  {
   "cell_type": "markdown",
   "metadata": {},
   "source": [
    "# Convert hyades .dat output to excel sheets\n",
    "One excel sheet is created for one hyades run. The excel sheet will have a page for each variable (each .dat file).  \n",
    "The excel sheet is created inside of the run folder."
   ]
  },
  {
   "cell_type": "code",
   "execution_count": 1,
   "metadata": {},
   "outputs": [],
   "source": [
    "import os\n",
    "import sys\n",
    "sys.path.append(\"../tools\")\n",
    "from excel_writer import writeExcel"
   ]
  },
  {
   "cell_type": "markdown",
   "metadata": {},
   "source": [
    "# Setup\n",
    "Set the path and all runs that live under that path.  "
   ]
  },
  {
   "cell_type": "code",
   "execution_count": 2,
   "metadata": {},
   "outputs": [],
   "source": [
    "path = '../data/'\n",
    "# run_names = [f for f in os.listdir(path) if os.path.isdir(os.path.join(path,f))]\n",
    "run_names = [\"Fe_pres_thermal50\", \"Fe_pres_thermal20\"]"
   ]
  },
  {
   "cell_type": "code",
   "execution_count": 3,
   "metadata": {},
   "outputs": [
    {
     "name": "stdout",
     "output_type": "stream",
     "text": [
      "['Rho', 'Tr', 'Te', 'U', 'Pres', 'Ti']\n",
      "Saved: ../data/Fe_pres_thermal50/Fe_pres_thermal50.xlsx\n",
      "['U', 'Ti', 'Rho', 'Te', 'Tr', 'Pres']\n",
      "Saved: ../data/Fe_pres_thermal20/Fe_pres_thermal20.xlsx\n",
      "COMPLETED\n"
     ]
    }
   ],
   "source": [
    "for run in run_names:\n",
    "    dat_files = [ os.path.splitext(f)[0] for f in os.listdir(os.path.join(path, run)) if f.endswith('.dat') ]\n",
    "    variables = [ f.split('_')[-1] for f in dat_files ]\n",
    "    print(variables)\n",
    "    writeExcel( os.path.join(path,run,run), os.path.join(path,run,run), variables )\n",
    "print('COMPLETED')"
   ]
  },
  {
   "cell_type": "code",
   "execution_count": null,
   "metadata": {},
   "outputs": [],
   "source": []
  }
 ],
 "metadata": {
  "kernelspec": {
   "display_name": "Python 3",
   "language": "python",
   "name": "python3"
  },
  "language_info": {
   "codemirror_mode": {
    "name": "ipython",
    "version": 3
   },
   "file_extension": ".py",
   "mimetype": "text/x-python",
   "name": "python",
   "nbconvert_exporter": "python",
   "pygments_lexer": "ipython3",
   "version": "3.7.3"
  }
 },
 "nbformat": 4,
 "nbformat_minor": 2
}
