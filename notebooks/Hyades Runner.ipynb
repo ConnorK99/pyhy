{
 "cells": [
  {
   "cell_type": "markdown",
   "metadata": {},
   "source": [
    "Connor Krill Updated July 18, 2019\n",
    "# Automating the running and post processing of hyades\n",
    "This script runs the hyades simulation, post-processing on all variables of interest, and puts all of those files into a single folder for each hyades simulation. A log file will be created and time stamp every hyades run this script preforms."
   ]
  },
  {
   "cell_type": "code",
   "execution_count": null,
   "metadata": {},
   "outputs": [],
   "source": [
    "import os\n",
    "import shutil\n",
    "import time\n",
    "import logging\n",
    "import matplotlib.pyplot as plt\n",
    "from tools_hyades_runner import run_hyades, run_hyades_post\n",
    "from tools_excel_writer import write_excel"
   ]
  },
  {
   "cell_type": "markdown",
   "metadata": {},
   "source": [
    "# Setup information for the hyades run\n",
    "* inf_path - the location of all your .inf files. Everything in this folder with the extension \".inf\" will be run.\n",
    "* final_destination - where all of the data will be saved and all these files will end up.\n",
    "* copy_data_to_excel - __Recommended set to 'True' if you want to plot the data outside of python__ if True an excel sheet with all of the data is saved for each simulation. Each column is header is a point in time and each row is a lagranian position X. The corresponding table value is the variable value at that point in time and distance. \n"
   ]
  },
  {
   "cell_type": "code",
   "execution_count": null,
   "metadata": {},
   "outputs": [],
   "source": [
    "inf_path = '../data/inf'\n",
    "final_destination = '../data'\n",
    "copy_data_to_excel = True"
   ]
  },
  {
   "cell_type": "code",
   "execution_count": null,
   "metadata": {
    "scrolled": false
   },
   "outputs": [],
   "source": [
    "variables = ['Pres', 'Rho', 'Te', 'U']\n",
    "# setup a logging file\n",
    "filename   = 'hyades.log'\n",
    "log_format = '%(asctime)s %(levelname)s:%(message)s'\n",
    "datefmt    = '%Y-%m-%d %H:%M:%S'\n",
    "logging.basicConfig(filename=filename, \n",
    "                    format=log_format, datefmt=datefmt, level=logging.DEBUG)\n",
    "error_str = f'{filename} not in current directory, {os.getcwd()}'\n",
    "assert filename in os.listdir(os.getcwd()), error_str\n",
    "\n",
    "old_dir = os.getcwd() # save the old directory in case I need it later\n",
    "\n",
    "inf_files = sorted([os.path.splitext(f)[0] for f in os.listdir(inf_path)\n",
    "                   if (f.endswith('.inf')) and ('setup' not in f)])\n",
    "\n",
    "if inf_files:\n",
    "    print(f'Found {len(inf_files)} .inf files: {\", \".join(inf_files)} \\n')\n",
    "else:\n",
    "    raise Exception(f'Found no .inf files in {inf_path!r}')\n",
    "                    \n",
    "for run_name in inf_files:\n",
    "\n",
    "    t2complete = run_hyades(inf_path, run_name, final_destination) # creates a new folder named \"run_name\"\n",
    "    print(t2complete)\n",
    "    logging.info(f'Complete HYADES run for {run_name} in {round(t2complete,1)} seconds')\n",
    "    os.chdir(run_name)\n",
    "    run_hyades_post(run_name, variables) # post processing on all variables\n",
    "    logging.info(f'Completed post processing for {run_name} variables: {\", \".join(variables)}')\n",
    "    \n",
    "    if copy_data_to_excel:\n",
    "        write_excel(run_name, run_name, variables)\n",
    "    \n",
    "    os.chdir(old_dir)\n",
    "    \n",
    "    # move the folder and post processing to final_destination\n",
    "    shutil.move(os.path.join(inf_path, run_name), final_destination) \n",
    "    print()\n",
    "\n",
    "print('\\nFinished')"
   ]
  },
  {
   "cell_type": "code",
   "execution_count": null,
   "metadata": {},
   "outputs": [],
   "source": []
  }
 ],
 "metadata": {
  "kernelspec": {
   "display_name": "Python 3",
   "language": "python",
   "name": "python3"
  },
  "language_info": {
   "codemirror_mode": {
    "name": "ipython",
    "version": 3
   },
   "file_extension": ".py",
   "mimetype": "text/x-python",
   "name": "python",
   "nbconvert_exporter": "python",
   "pygments_lexer": "ipython3",
   "version": "3.7.3"
  }
 },
 "nbformat": 4,
 "nbformat_minor": 2
}
